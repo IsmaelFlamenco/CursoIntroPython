{
 "cells": [
  {
   "cell_type": "markdown",
   "metadata": {},
   "source": [
    "## Ejercicio 1\n",
    "Para este ejercicio, escribirás una lógica condicional que imprima una advertencia si un asteroide se acerca a la Tierra demasiado rápido. La velocidad del asteroide varía dependiendo de lo cerca que esté del sol, y cualquier velocidad superior a 25 kilómetros por segundo (km/s) merece una advertencia.\n",
    "\n",
    "Un asteroide se acerca, y viaja a una velocidad de 49 km/s."
   ]
  },
  {
   "cell_type": "code",
   "execution_count": 3,
   "metadata": {},
   "outputs": [
    {
     "name": "stdout",
     "output_type": "stream",
     "text": [
      "ADVERTENCIA! Un asteroide se aproxima demasiado rápido a la Tierra, con una velocidad de: 49 Km/s\n"
     ]
    }
   ],
   "source": [
    "velocidad = 49 #Km/s\n",
    "if velocidad > 25:\n",
    "    print(\"ADVERTENCIA! Un asteroide se aproxima demasiado rápido a la Tierra, con una velocidad de: \" + str(velocidad) + \" Km/s\")\n",
    "else:\n",
    "    print(\"No hay amenazas por el momento...\")\n"
   ]
  },
  {
   "cell_type": "markdown",
   "metadata": {},
   "source": [
    "## Ejercicio 2\n",
    "Si un asteroide entra en la atmósfera de la Tierra a una velocidad mayor o igual a 20 km/s, a veces produce un rayo de luz que se puede ver desde la Tierra. Escribe la lógica condicional que usa declaraciones if, else, y elif para alertar a las personas de todo el mundo que deben buscar un asteroide en el cielo. ¡Hay uno que se dirige a la tierra ahora a una velocidad de 19 km/s!"
   ]
  },
  {
   "cell_type": "code",
   "execution_count": 5,
   "metadata": {},
   "outputs": [
    {
     "name": "stdout",
     "output_type": "stream",
     "text": [
      "ATENCIÓN! Se aproxima un asteroide, buscalo en el cielo y si lo encuentras busca refugio o escapa mientras puedas!\n"
     ]
    }
   ],
   "source": [
    "velocidad = 21 #Km/s\n",
    "if velocidad == 20:\n",
    "    print(\"ATENCIÓN! Se aproxima un asteroide, buscalo en el cielo y con suerte verás un rayo de luz\")\n",
    "elif velocidad > 20:\n",
    "    print(\"ATENCIÓN! Se aproxima un asteroide, buscalo en el cielo y con suerte verás un rayo de luz\")\n",
    "else:\n",
    "    print(\"No hay ninguna amenaza por el momento...\")"
   ]
  },
  {
   "cell_type": "markdown",
   "metadata": {},
   "source": [
    "## Ejercicio 3\n",
    "En este ejercicio, aprenderás información más matizada sobre cuándo los asteroides representan un peligro para la Tierra, y utilizarás esa información para mejorar nuestro sistema de advertencia. Aquí está la nueva información que necesitas saber:\n",
    "\n",
    "*Los asteroides de menos de 25 metros en su dimensión más grande probablemente se quemarán a medida que entren en la atmósfera de la Tierra.\n",
    "\n",
    "*Si una pieza de un asteroide que es más grande que 25 metros pero más pequeña que 1000 metros golpeara la Tierra, causaría mucho daño.\n",
    "\n",
    "*La velocidad del asteroide varía en función de lo cerca que esté del sol, y cualquier velocidad superior a 25 kilómetros por segundo (km/s) merece una advertencia.\n",
    "\n",
    "*Si un asteroide entra en la atmósfera de la Tierra a una velocidad mayor o igual a 20 km/s, a veces produce un rayo de luz que se puede ver desde la Tierra.\n",
    "\n",
    "Escribe un programa que emita la advertencia o información correcta a la gente de la Tierra, según la velocidad y el tamaño de un asteroide. Utiliza instrucciones if, else, y elif, así como los operadores and y or."
   ]
  },
  {
   "cell_type": "code",
   "execution_count": 16,
   "metadata": {},
   "outputs": [
    {
     "name": "stdout",
     "output_type": "stream",
     "text": [
      "ADVERTENCIA! Un asteroide de 40 metros se aproxima demasiado rápido a la Tierra, con una velocidad de: 100 Km/s\n"
     ]
    }
   ],
   "source": [
    "size = 40 #metros\n",
    "speed = 100 #Km/s\n",
    "\n",
    "if size > 25 and speed > 25:\n",
    "    print(\"ADVERTENCIA! Un asteroide de \"+str(size)+\" metros se aproxima demasiado rápido a la Tierra, con una velocidad de: \" + str(speed) + \" Km/s\")\n",
    "elif speed >= 20:\n",
    "    print(\"ATENCIÓN! Se aproxima un asteroide, buscalo en el cielo y con suerte verás un rayo de luz\")\n",
    "else:\n",
    "    print(\"No hay ninguna amenza por el momento...\")"
   ]
  }
 ],
 "metadata": {
  "interpreter": {
   "hash": "edac005d18d8db2248780fe94ce12f7501234e061d07adf771a605d8e72454d1"
  },
  "kernelspec": {
   "display_name": "Python 3.10.2 64-bit",
   "language": "python",
   "name": "python3"
  },
  "language_info": {
   "codemirror_mode": {
    "name": "ipython",
    "version": 3
   },
   "file_extension": ".py",
   "mimetype": "text/x-python",
   "name": "python",
   "nbconvert_exporter": "python",
   "pygments_lexer": "ipython3",
   "version": "3.10.2"
  },
  "orig_nbformat": 4
 },
 "nbformat": 4,
 "nbformat_minor": 2
}
